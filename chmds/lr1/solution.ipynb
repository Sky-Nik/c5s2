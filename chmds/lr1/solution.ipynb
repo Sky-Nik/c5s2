{
 "cells": [
  {
   "cell_type": "markdown",
   "metadata": {},
   "source": [
    "# \\[умова\\] Чисельне моделювання рівняння теплопровідності\n",
    "\n",
    "Для випадку сталих коефіцієнтів, рівних одиниці, \n",
    "отримати чисельні розв'язки рівняння теплопровідності\n",
    "\n",
    "$$\n",
    "\\frac{\\partial w}{\\partial t} = \n",
    "a \\left(\n",
    "    \\frac{\\partial^2 w}{\\partial x^2} +\n",
    "    \\frac{\\partial^2 w}{\\partial y^2}\n",
    "\\right) + f(x, y, t)\n",
    "$$\n",
    "\n",
    "в прямокутній області $[0, l_1] \\times [0, l_2]$, $t \\in (0, 1)$\n",
    "з використанням:\n",
    "\n",
    "- явної різницевої схеми;\n",
    "\n",
    "- методу змінних напрямків;\n",
    "\n",
    "- двокрокового симетризованого алгоритму.\n",
    "\n",
    "Права частина $f$ вважається відомою і відновлюється за допомогою відомого розв'язку $w$.\n",
    "\n",
    "Візуалізувати динаміку, побудувати графіки абсолютної похибки.\n",
    "\n",
    "Варіанти тестових роз'язків:\n",
    "\n",
    "- $w(x, y, t) = A \\exp (k_1 x + k_2 y + (k_1^2 + k_2^2) a t)$;\n",
    "\n",
    "- $w(x, y, t) = A \\cos (k_1 x + C_1) \\cos (k_2 y + C_2) \\exp (-(k_1^2 + k_2^2) a t)$;\n",
    "\n",
    "- $w(x, y, t) = A \\cos (k_1 x + C_1) \\sinh (k_2 y + C_2) \\exp (-(k_1^2 + k_2^2) a t)$;\n",
    "\n",
    "- $w(x, y, t) = A \\exp(-\\mu x - \\lambda y) \\cos (\\mu x - 2 a \\mu^2 t + C_1) \\cos (\\lambda y - 2 a \\lambda^2 t + C_2)$;\n",
    "\n",
    "- $w(x, y, t) = \\frac{A}{t - t_0} \\exp \\left( -\\frac{(x - x_0)^2 + (y - y_0)^2}{4 a (t - t_0)^2} \\right)$;\n",
    "\n",
    "- $w(x, y, t) = A\\ \\text{erf} \\left( \\frac{x - x_0}{2 \\sqrt{a t}} \\right) \\text{erf} \\left( \\frac{y - y_0}{2 \\sqrt{a t}} \\right)$, $\\text{erf}(x) = \\frac{2}{\\sqrt{\\pi}} \\int_0^x e^{-t^2} dt$.\n"
   ]
  },
  {
   "cell_type": "markdown",
   "metadata": {},
   "source": [
    "## \\[Волков\\] Рівняння теплопровідності з двома просторовими змінними\n",
    "\n",
    "Нехай \n",
    "\n",
    "$$\n",
    "\\begin{aligned}\n",
    "    \\overline{R} &= \\{ (x, y, t) : 0 \\le x \\le 1, 0 \\le y \\le 1, 0 \\le t \\le T \\}, \\\\\n",
    "    R' &= \\{ (x, y, t) : 0 < x < 1, 0 < y < 1, 0 < t \\le T \\}, \\\\\n",
    "    S &= \\overline{R} \\setminus R',\n",
    "\\end{aligned}\n",
    "$$\n",
    "\n",
    "тобто $\\overline{R}$ &mdash; замкнутий прямокутний паралелепіпед, $R'$ &mdash; напіввідкритий паралелепіпед, $S$ &mdash; множина граничних точок $\\overline{R}$ що не належать $R'$, $f(x, y, t)$ &mdash; задана на $\\overline{R}$ достатньо гладка функція.\n",
    "\n",
    "Необхідно знайти неперервну на $\\overline{R}$ функцію $u(x, y, t)$, що задовольняє на $R'$ рівнянню теплопровідності\n",
    "\n",
    "$$\n",
    "\\frac{\\partial u}{\\partial t} - \\frac{\\partial^2 u}{\\partial x^2}  - \\frac{\\partial^2 u}{\\partial y^2} = f(x, y, t)\n",
    "$$\n",
    "\n",
    "і, окрім того, підпорядковану на $S$  додатковій умові $u = 0$.\n",
    "\n",
    "Ця умова включає у себе як початкову умову $u(x, y, 0) = 0$ при $t = 0$ так і однорідні крайові умови першого роду при $x = 0$, $x = 1$, $y = 0$ і $y = 1$, тобто на боковх гранях паралелепіпеду $\\overline{R}$.\n",
    "\n",
    "Така змішана задача має єдиний розв'язок $u(x, y, t)$.\n",
    "\n",
    "Покладемо $h = 1/N$, $\\tau = T/M$, $x_k = kh$, $y_m = mh$, $t_\\nu = \\nu \\tau$. $f_{km}^\\nu = f(x_k, y_m, t_\\nu)$,\n",
    "\n",
    "$$\n",
    "\\begin{aligned}\n",
    "    \\Lambda_1 v_{km}^\\nu &= -\\frac{v_{k-1,m}^\\nu - 2 v_{km}^\\nu + v_{k+1,m}^\\nu}{h^2}, \\\\\n",
    "    \\Lambda_2 v_{km}^\\nu &= -\\frac{v_{k,m-1}^\\nu - 2 v_{km}^\\nu + v_{k,m+1}^\\nu}{h^2}, \\\\\n",
    "    \\Lambda v_{km}^\\nu &= \\Lambda_1 v_{km}^\\nu + \\Lambda_2 v_{km}^\\nu.\n",
    "\\end{aligned}\n",
    "$$\n",
    "\n",
    "\n",
    "## Явна різницева схема\n",
    "\n",
    "$$\n",
    "\\frac{v_{km}^\\nu - v_{km}^{\\nu-1}}{t} + \\Lambda v_{km}^{\\nu-1} = f_{km}^{\\nu-1}, \\\\\n",
    "k, m = 1, 2, \\dots, N - 1, \\nu = 1, 2, \\dots, M,\n",
    "$$\n",
    "стійка при $\\tau / h^2 \\le 1 / 4$.\n",
    "\n",
    "## Неявна різницева схема\n",
    "\n",
    "$$\n",
    "\\frac{v_{km}^\\nu - v_{km}^{\\nu-1}}{t} + \\Lambda v_{km}^\\nu = f_{km}^\\nu, \\\\\n",
    "k, m = 1, 2, \\dots, N - 1, \\nu = 1, 2, \\dots, M,\n",
    "$$\n",
    "абсолютно стійка, але на кожному шарі по часу необхідно розв'язувати систему $(N - 1)^2$ рівнянь.\n"
   ]
  },
  {
   "cell_type": "code",
   "execution_count": null,
   "metadata": {},
   "outputs": [],
   "source": []
  },
  {
   "cell_type": "markdown",
   "metadata": {},
   "source": [
    "## Мій конспект\n",
    "\n"
   ]
  },
  {
   "cell_type": "code",
   "execution_count": null,
   "metadata": {},
   "outputs": [],
   "source": []
  },
  {
   "cell_type": "markdown",
   "metadata": {},
   "source": [
    "## Мій код"
   ]
  },
  {
   "cell_type": "code",
   "execution_count": null,
   "metadata": {},
   "outputs": [],
   "source": []
  }
 ],
 "metadata": {
  "kernelspec": {
   "display_name": "Python 3",
   "language": "python",
   "name": "python3"
  },
  "language_info": {
   "codemirror_mode": {
    "name": "ipython",
    "version": 3
   },
   "file_extension": ".py",
   "mimetype": "text/x-python",
   "name": "python",
   "nbconvert_exporter": "python",
   "pygments_lexer": "ipython3",
   "version": "3.8.3"
  }
 },
 "nbformat": 4,
 "nbformat_minor": 4
}
